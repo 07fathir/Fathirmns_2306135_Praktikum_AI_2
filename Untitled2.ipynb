{
  "nbformat": 4,
  "nbformat_minor": 0,
  "metadata": {
    "colab": {
      "provenance": [],
      "authorship_tag": "ABX9TyN+sArE3c3cyDU/v2R4p7ru",
      "include_colab_link": true
    },
    "kernelspec": {
      "name": "python3",
      "display_name": "Python 3"
    },
    "language_info": {
      "name": "python"
    }
  },
  "cells": [
    {
      "cell_type": "markdown",
      "metadata": {
        "id": "view-in-github",
        "colab_type": "text"
      },
      "source": [
        "<a href=\"https://colab.research.google.com/github/07fathir/Fathirmns_2306135_Praktikum_AI_2/blob/main/Untitled2.ipynb\" target=\"_parent\"><img src=\"https://colab.research.google.com/assets/colab-badge.svg\" alt=\"Open In Colab\"/></a>"
      ]
    },
    {
      "cell_type": "code",
      "execution_count": 1,
      "metadata": {
        "colab": {
          "base_uri": "https://localhost:8080/"
        },
        "id": "l6Hpr3zBIVSY",
        "outputId": "8b5b3948-c5a9-402b-a19b-453da7bc3526"
      },
      "outputs": [
        {
          "output_type": "stream",
          "name": "stdout",
          "text": [
            "Berikut adalah Penelusuran Depth First (dimulai dari node C)\n",
            "C A B D "
          ]
        }
      ],
      "source": [
        "from collections import defaultdict\n",
        "\n",
        "class Graph:\n",
        "    def __init__(self):\n",
        "        self.graph = defaultdict(list)\n",
        "\n",
        "    def addEdge(self, u, v):\n",
        "        self.graph[u].append(v)\n",
        "\n",
        "    def DFSUtil(self, v, visited):\n",
        "        visited.add(v)\n",
        "        print(v, end=' ')\n",
        "        for neighbour in self.graph[v]:\n",
        "            if neighbour not in visited:\n",
        "                self.DFSUtil(neighbour, visited)\n",
        "\n",
        "    def DFS(self, v):\n",
        "        visited = set()\n",
        "        self.DFSUtil(v, visited)\n",
        "\n",
        "if __name__ == \"__main__\":\n",
        "    g = Graph()\n",
        "    g.addEdge('A', 'B')\n",
        "    g.addEdge('A', 'C')\n",
        "    g.addEdge('B', 'C')\n",
        "    g.addEdge('C', 'A')\n",
        "    g.addEdge('C', 'D')\n",
        "    g.addEdge('D', 'D')\n",
        "\n",
        "    print(\"Berikut adalah Penelusuran Depth First (dimulai dari node C)\")\n",
        "    g.DFS('C')"
      ]
    }
  ]
}